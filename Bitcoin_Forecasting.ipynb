{
 "cells": [
  {
   "cell_type": "markdown",
   "metadata": {},
   "source": [
    "## Fetch Bitcoin Data"
   ]
  },
  {
   "cell_type": "code",
   "execution_count": null,
   "metadata": {},
   "outputs": [],
   "source": [
    "# import libraries\n",
    "import math\n",
    "import pandas_ta as ta\n",
    "import numpy as np\n",
    "import pandas as pd\n",
    "from sklearn.preprocessing import MinMaxScaler\n",
    "from keras.models import Sequential\n",
    "from keras.layers import Dense, LSTM, Dropout\n",
    "import matplotlib.pyplot as plt\n",
    "from datetime import datetime as dt\n",
    "from binance import Client\n",
    "import csv\n",
    "\n",
    "# ignore warnings\n",
    "import warnings\n",
    "warnings.filterwarnings(\"ignore\")"
   ]
  },
  {
   "cell_type": "code",
   "execution_count": null,
   "id": "29fc77f9",
   "metadata": {},
   "outputs": [],
   "source": [
    "# Verifica si el archivo existe y elimínalo\n",
    "import os\n",
    "archivo_excel = \"BTCUSDT.csv\"\n",
    "if os.path.exists(archivo_excel):\n",
    "    os.remove(archivo_excel)\n"
   ]
  },
  {
   "cell_type": "code",
   "execution_count": null,
   "metadata": {},
   "outputs": [],
   "source": [
    "# create client object from binance library\n",
    "client = Client(None, None)"
   ]
  },
  {
   "cell_type": "code",
   "execution_count": null,
   "metadata": {},
   "outputs": [],
   "source": [
    "# defining the function that fetch the historical data of the wanted coin\n",
    "def getdata(symbol, period, start, end):\n",
    "    \"\"\"\n",
    "    This function gives us the historical candle data of the desired coin\n",
    "    :param symbol: coin name that you want to get data\n",
    "    :param period: time period of candles\n",
    "    :param start: starting date of candles data\n",
    "    :param end: end date of candles data\n",
    "    :return: candles data\n",
    "    \"\"\"\n",
    "    candles = client.get_historical_klines(symbol, period, start, end)\n",
    "    return candles"
   ]
  },
  {
   "cell_type": "code",
   "execution_count": null,
   "metadata": {},
   "outputs": [],
   "source": [
    "# defining the function that make csv file of the historical data of the wanted coin\n",
    "def make_csv(symbol, candles):\n",
    "    \"\"\"\n",
    "    This function makes csv file of desired coin with defined properties\n",
    "    :param symbol: coin name that you want to make csv file\n",
    "    :param candles: historical data of the desired coin\n",
    "    :return: historical data in csv file\n",
    "    \"\"\"\n",
    "    csvfile = open(symbol + \".csv\", \"a\", newline=\"\")\n",
    "    cursor = csv.writer(csvfile)\n",
    "    for i in candles:\n",
    "        cursor.writerow(i)\n",
    "    csvfile.close()"
   ]
  },
  {
   "cell_type": "code",
   "execution_count": null,
   "metadata": {},
   "outputs": [],
   "source": [
    "# defining the function that make csv files of the historical data of the wanted multiple coin\n",
    "def multiple_csv(symbols, interval, start, end):\n",
    "    \"\"\"\n",
    "    This function makes csv file for each coin in symbols parameter with defined properties\n",
    "    :param symbols: list of multiple coin names that you want to make csv file\n",
    "    :param interval: time period of candles (default: client.KLINE_INTERVAL_1DAY you can change the interval)\n",
    "    :param start: starting date of candles data\n",
    "    :param end: end date of candles data\n",
    "    :return: historical data of multiple coin in csv files\n",
    "    \"\"\"\n",
    "    for i in symbols:\n",
    "        make_csv(i, getdata(i, interval, str(start), str(end)))\n",
    "        print(i, \"csv file is ready.\")"
   ]
  },
  {
   "cell_type": "code",
   "execution_count": null,
   "metadata": {},
   "outputs": [],
   "source": [
    "# defining function the that turn the timestamp to the date \n",
    "def calculate_time(timestamp):\n",
    "    \"\"\"\n",
    "    This function turns the timestamp to the date\n",
    "    :param timestamp: given timestamp\n",
    "    :return: date according to given timestamp\n",
    "    \"\"\"\n",
    "    return dt.fromtimestamp(timestamp/1000)"
   ]
  },
  {
   "cell_type": "code",
   "execution_count": null,
   "metadata": {},
   "outputs": [],
   "source": [
    "# get Bitcoin historical data and make csv\n",
    "multiple_csv([\"BTCUSDT\"], client.KLINE_INTERVAL_1HOUR, \"1 January 2010\", \"31 January 2025\")"
   ]
  },
  {
   "cell_type": "code",
   "execution_count": null,
   "metadata": {},
   "outputs": [],
   "source": [
    "# read Bitcoin histroical data as dataframe with column names\n",
    "headers = [\"Open Time\", \"Open\", \"High\", \"Low\", \"Close\", \"Volume\", \"Close Time\", \"QAV\", \"NAT\", \"TBBAV\", \"TBQAV\", \"Ignore\"]\n",
    "data = pd.read_csv(\"BTCUSDT.csv\", names=headers)\n",
    "data.head()"
   ]
  },
  {
   "cell_type": "code",
   "execution_count": null,
   "metadata": {},
   "outputs": [],
   "source": [
    "# Turn \"Open Time\" and \"Close Time\" columns to Date\n",
    "open_date = []\n",
    "for i in data[\"Open Time\"]:\n",
    "    open_date.append(calculate_time(i))\n",
    "data[\"Open Time\"] = open_date\n",
    "\n",
    "close_date = []\n",
    "for i in data[\"Close Time\"]:\n",
    "    close_date.append(calculate_time(i))\n",
    "data[\"Close Time\"] = close_date\n",
    "data"
   ]
  },
  {
   "cell_type": "markdown",
   "metadata": {},
   "source": [
    "## Visualize the Bitcoin Data"
   ]
  },
  {
   "cell_type": "code",
   "execution_count": null,
   "metadata": {},
   "outputs": [],
   "source": [
    "# Visualize the close price history\n",
    "plt.figure(figsize=(16, 8))\n",
    "plt.title(\"Bitcoin Price History\")\n",
    "plt.plot(data[\"Close Time\"], data[\"Close\"])\n",
    "plt.xlabel(\"Time\", fontsize=14,)\n",
    "plt.ylabel(\"USDT\", fontsize=14)\n",
    "plt.show()"
   ]
  },
  {
   "cell_type": "markdown",
   "metadata": {},
   "source": [
    "## Create Train and Test Data"
   ]
  },
  {
   "cell_type": "code",
   "execution_count": null,
   "metadata": {},
   "outputs": [],
   "source": [
    "# Create new data with only the \"Close\" column\n",
    "close = data.filter([\"Close\"])\n",
    "# Convert the dataframe to a np array\n",
    "close_array = close.values\n",
    "# See the train data len\n",
    "train_close_len = math.ceil(len(close_array) * 0.8)\n",
    "train_close_len"
   ]
  },
  {
   "cell_type": "code",
   "execution_count": null,
   "id": "dc9c05fc",
   "metadata": {},
   "outputs": [],
   "source": [
    "print(close)"
   ]
  },
  {
   "cell_type": "code",
   "execution_count": null,
   "metadata": {},
   "outputs": [],
   "source": [
    "# Normalize the data\n",
    "scaler = MinMaxScaler()\n",
    "scaled_data = scaler.fit_transform(close_array)\n",
    "scaled_data"
   ]
  },
  {
   "cell_type": "code",
   "execution_count": null,
   "metadata": {},
   "outputs": [],
   "source": [
    "# Create the training dataset\n",
    "train_data = scaled_data[0 : train_close_len, :]\n",
    "# Create X_train and y_train\n",
    "X_train = []\n",
    "y_train = []\n",
    "for i in range(24*7, len(train_data)):\n",
    "    X_train.append(train_data[i - 24*7 : i, 0])\n",
    "    y_train.append(train_data[i, 0])\n",
    "    if i <= 24*7:\n",
    "        print(X_train)\n",
    "        print(y_train)"
   ]
  },
  {
   "cell_type": "code",
   "execution_count": null,
   "metadata": {},
   "outputs": [],
   "source": [
    "#  make X_train and y_train np array\n",
    "X_train, y_train = np.array(X_train), np.array(y_train)"
   ]
  },
  {
   "cell_type": "code",
   "execution_count": null,
   "id": "8807678a",
   "metadata": {},
   "outputs": [],
   "source": [
    "print(X_train)"
   ]
  },
  {
   "cell_type": "code",
   "execution_count": null,
   "metadata": {},
   "outputs": [],
   "source": [
    "# reshape the data\n",
    "X_train = np.reshape(X_train, (X_train.shape[0], X_train.shape[1], 1))\n",
    "X_train.shape"
   ]
  },
  {
   "cell_type": "code",
   "execution_count": null,
   "metadata": {},
   "outputs": [],
   "source": [
    "# create the testing dataset\n",
    "test_data = scaled_data[train_close_len - 24*7 : , :]\n",
    "# create X_test and y_test\n",
    "X_test = []\n",
    "y_test = []\n",
    "for i in range(24*7, len(test_data)):\n",
    "    X_test.append(test_data[i - 24*7 : i, 0])\n",
    "    y_test.append(test_data[i, 0])"
   ]
  },
  {
   "cell_type": "code",
   "execution_count": null,
   "metadata": {},
   "outputs": [],
   "source": [
    "# convert the test data to a np array and reshape the test data\n",
    "#  make X_train and y_train np array\n",
    "X_test, y_test = np.array(X_test), np.array(y_test)\n",
    "X_test = np.reshape(X_test, (X_test.shape[0], X_test.shape[1], 1))"
   ]
  },
  {
   "cell_type": "markdown",
   "metadata": {},
   "source": [
    "## Build a Optimized LSTM Model"
   ]
  },
  {
   "cell_type": "code",
   "execution_count": null,
   "metadata": {},
   "outputs": [],
   "source": [
    "# change the parameters of first LSTM model and build the Optimized LSTM Model\n",
    "optimized_model = Sequential()\n",
    "\n",
    "optimized_model.add(LSTM(50, return_sequences=True, input_shape=(X_train.shape[1], 1)))\n",
    "\n",
    "optimized_model.add(LSTM(100, return_sequences=False))\n",
    "\n",
    "optimized_model.add(Dense(50))\n",
    "\n",
    "optimized_model.add(Dense(1))"
   ]
  },
  {
   "cell_type": "code",
   "execution_count": null,
   "metadata": {},
   "outputs": [],
   "source": [
    "# compile the model\n",
    "optimized_model.compile(optimizer=\"Adam\", loss=\"mean_squared_error\", metrics=['mae'])"
   ]
  },
  {
   "cell_type": "code",
   "execution_count": null,
   "metadata": {},
   "outputs": [],
   "source": [
    "# train the optimized model\n",
    "optimized_model.fit(X_train, y_train, \n",
    "          batch_size=10, \n",
    "          epochs=3, \n",
    "          verbose=1)"
   ]
  },
  {
   "cell_type": "code",
   "execution_count": null,
   "metadata": {},
   "outputs": [],
   "source": [
    "# Predict with optimized LSTM model\n",
    "o_predictions = optimized_model.predict(X_test)\n",
    "o_predictions = scaler.inverse_transform(o_predictions)"
   ]
  },
  {
   "cell_type": "code",
   "execution_count": null,
   "id": "88be82f4",
   "metadata": {},
   "outputs": [],
   "source": [
    "ypred1 = o_predictions[0:24*7]\n",
    "x0= np.arange(0,24*7,1)\n",
    "yval1 = close[train_close_len:train_close_len+24*7]\n",
    "plt.Figure()\n",
    "plt.plot(x0,ypred1,label='Predicted')\n",
    "plt.plot(x0,yval1,label='Validation')\n",
    "plt.show()"
   ]
  },
  {
   "cell_type": "code",
   "execution_count": null,
   "id": "d0e4e1f4",
   "metadata": {},
   "outputs": [],
   "source": [
    "# plot the data\n",
    "train = close[:train_close_len]\n",
    "valid = close[train_close_len:]\n",
    "valid[\"Predictions\"] = o_predictions\n",
    "#visualize the data\n",
    "plt.figure(figsize=(16, 8))\n",
    "plt.title(\"Optimized LSTM Model\")\n",
    "plt.xlabel(\"Time\", fontsize=14)\n",
    "plt.ylabel(\"USDT\", fontsize=14)\n",
    "plt.plot(data[\"Close Time\"][train_close_len:], valid[[\"Close\"]], color=\"orange\")\n",
    "plt.plot(data[\"Close Time\"][train_close_len:], valid[[\"Predictions\"]], alpha=0.6, color=\"green\")\n",
    "plt.legend([\"Validation\", \"Predictions\"], loc=\"lower right\")\n",
    "plt.show()"
   ]
  },
  {
   "cell_type": "code",
   "execution_count": null,
   "id": "2c478955",
   "metadata": {},
   "outputs": [],
   "source": [
    "# Print the mse\n",
    "mse = np.mean(np.square(valid[\"Close\"] - valid[\"Predictions\"]))\n",
    "print(\"Mean Squared Error: \", mse)\n",
    "\n",
    "plt.figure(figsize=(16, 8))\n",
    "plt.plot(valid[\"Close\"], label=\"Actual\")\n",
    "plt.plot(valid[\"Predictions\"], label=\"Predicted\")\n",
    "plt.legend()"
   ]
  }
 ],
 "metadata": {
  "kernelspec": {
   "display_name": "Python 3",
   "language": "python",
   "name": "python3"
  },
  "language_info": {
   "codemirror_mode": {
    "name": "ipython",
    "version": 3
   },
   "file_extension": ".py",
   "mimetype": "text/x-python",
   "name": "python",
   "nbconvert_exporter": "python",
   "pygments_lexer": "ipython3",
   "version": "3.10.0"
  }
 },
 "nbformat": 4,
 "nbformat_minor": 5
}
