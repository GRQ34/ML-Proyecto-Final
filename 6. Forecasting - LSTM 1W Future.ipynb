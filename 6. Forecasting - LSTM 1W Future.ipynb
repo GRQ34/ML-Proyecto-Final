{
 "cells": [
  {
   "cell_type": "markdown",
   "metadata": {},
   "source": [
    "## Initial Part"
   ]
  },
  {
   "cell_type": "code",
   "execution_count": 1,
   "metadata": {},
   "outputs": [],
   "source": [
    "# import libraries\n",
    "import math\n",
    "import pandas_ta as ta\n",
    "import numpy as np\n",
    "import pandas as pd\n",
    "from sklearn.preprocessing import MinMaxScaler\n",
    "from keras.models import Sequential\n",
    "from keras.layers import Dense, LSTM, Dropout\n",
    "import matplotlib.pyplot as plt\n",
    "from datetime import datetime as dt\n",
    "from binance import Client\n",
    "import csv\n",
    "\n",
    "# ignore warnings\n",
    "import warnings\n",
    "warnings.filterwarnings(\"ignore\")"
   ]
  },
  {
   "cell_type": "code",
   "execution_count": null,
   "id": "29fc77f9",
   "metadata": {},
   "outputs": [],
   "source": [
    "# Verifica si el archivo existe y elimínalo\n",
    "import os\n",
    "archivo_excel = \"historical/BTCUSDT.csv\"\n",
    "if os.path.exists(archivo_excel):\n",
    "    os.remove(archivo_excel)\n"
   ]
  },
  {
   "cell_type": "code",
   "execution_count": null,
   "metadata": {},
   "outputs": [],
   "source": [
    "# create client object from binance library\n",
    "client = Client(None, None)"
   ]
  },
  {
   "cell_type": "code",
   "execution_count": 2,
   "metadata": {},
   "outputs": [],
   "source": [
    "# defining the function that fetch the historical data of the wanted coin\n",
    "def getdata(symbol, period, start, end):\n",
    "    \"\"\"\n",
    "    This function gives us the historical candle data of the desired coin\n",
    "    :param symbol: coin name that you want to get data\n",
    "    :param period: time period of candles\n",
    "    :param start: starting date of candles data\n",
    "    :param end: end date of candles data\n",
    "    :return: candles data\n",
    "    \"\"\"\n",
    "    candles = client.get_historical_klines(symbol, period, start, end)\n",
    "    return candles"
   ]
  },
  {
   "cell_type": "code",
   "execution_count": null,
   "metadata": {},
   "outputs": [],
   "source": [
    "# defining the function that make csv file of the historical data of the wanted coin\n",
    "def make_csv(symbol, candles):\n",
    "    \"\"\"\n",
    "    This function makes csv file of desired coin with defined properties\n",
    "    :param symbol: coin name that you want to make csv file\n",
    "    :param candles: historical data of the desired coin\n",
    "    :return: historical data in csv file\n",
    "    \"\"\"\n",
    "    csvfile = open(\"historical/\" + symbol + \".csv\", \"a\", newline=\"\")\n",
    "    cursor = csv.writer(csvfile)\n",
    "    for i in candles:\n",
    "        cursor.writerow(i)\n",
    "    csvfile.close()"
   ]
  },
  {
   "cell_type": "code",
   "execution_count": 4,
   "metadata": {},
   "outputs": [],
   "source": [
    "# defining the function that make csv files of the historical data of the wanted multiple coin\n",
    "def multiple_csv(symbols, interval, start, end):\n",
    "    \"\"\"\n",
    "    This function makes csv file for each coin in symbols parameter with defined properties\n",
    "    :param symbols: list of multiple coin names that you want to make csv file\n",
    "    :param interval: time period of candles (default: client.KLINE_INTERVAL_1DAY you can change the interval)\n",
    "    :param start: starting date of candles data\n",
    "    :param end: end date of candles data\n",
    "    :return: historical data of multiple coin in csv files\n",
    "    \"\"\"\n",
    "    for i in symbols:\n",
    "        make_csv(i, getdata(i, interval, str(start), str(end)))\n",
    "        print(i, \"csv file is ready.\")"
   ]
  },
  {
   "cell_type": "code",
   "execution_count": 5,
   "metadata": {},
   "outputs": [],
   "source": [
    "# defining function the that turn the timestamp to the date \n",
    "def calculate_time(timestamp):\n",
    "    \"\"\"\n",
    "    This function turns the timestamp to the date\n",
    "    :param timestamp: given timestamp\n",
    "    :return: date according to given timestamp\n",
    "    \"\"\"\n",
    "    return dt.fromtimestamp(timestamp/1000)"
   ]
  },
  {
   "cell_type": "code",
   "execution_count": null,
   "metadata": {},
   "outputs": [],
   "source": [
    "# get Bitcoin historical data and make csv\n",
    "multiple_csv([\"BTCUSDT\"], client.KLINE_INTERVAL_1HOUR, \"1 January 2010\", \"31 January 2025\")"
   ]
  },
  {
   "cell_type": "code",
   "execution_count": 6,
   "metadata": {},
   "outputs": [
    {
     "data": {
      "text/html": [
       "<div>\n",
       "<style scoped>\n",
       "    .dataframe tbody tr th:only-of-type {\n",
       "        vertical-align: middle;\n",
       "    }\n",
       "\n",
       "    .dataframe tbody tr th {\n",
       "        vertical-align: top;\n",
       "    }\n",
       "\n",
       "    .dataframe thead th {\n",
       "        text-align: right;\n",
       "    }\n",
       "</style>\n",
       "<table border=\"1\" class=\"dataframe\">\n",
       "  <thead>\n",
       "    <tr style=\"text-align: right;\">\n",
       "      <th></th>\n",
       "      <th>Open Time</th>\n",
       "      <th>Open</th>\n",
       "      <th>High</th>\n",
       "      <th>Low</th>\n",
       "      <th>Close</th>\n",
       "      <th>Volume</th>\n",
       "      <th>Close Time</th>\n",
       "      <th>QAV</th>\n",
       "      <th>NAT</th>\n",
       "      <th>TBBAV</th>\n",
       "      <th>TBQAV</th>\n",
       "      <th>Ignore</th>\n",
       "    </tr>\n",
       "  </thead>\n",
       "  <tbody>\n",
       "    <tr>\n",
       "      <th>0</th>\n",
       "      <td>1502942400000</td>\n",
       "      <td>4261.48</td>\n",
       "      <td>4313.62</td>\n",
       "      <td>4261.32</td>\n",
       "      <td>4308.83</td>\n",
       "      <td>47.181009</td>\n",
       "      <td>1502945999999</td>\n",
       "      <td>202366.138393</td>\n",
       "      <td>171</td>\n",
       "      <td>35.160503</td>\n",
       "      <td>150952.477943</td>\n",
       "      <td>0</td>\n",
       "    </tr>\n",
       "    <tr>\n",
       "      <th>1</th>\n",
       "      <td>1502946000000</td>\n",
       "      <td>4308.83</td>\n",
       "      <td>4328.69</td>\n",
       "      <td>4291.37</td>\n",
       "      <td>4315.32</td>\n",
       "      <td>23.234916</td>\n",
       "      <td>1502949599999</td>\n",
       "      <td>100304.823567</td>\n",
       "      <td>102</td>\n",
       "      <td>21.448071</td>\n",
       "      <td>92608.279728</td>\n",
       "      <td>0</td>\n",
       "    </tr>\n",
       "    <tr>\n",
       "      <th>2</th>\n",
       "      <td>1502949600000</td>\n",
       "      <td>4330.29</td>\n",
       "      <td>4345.45</td>\n",
       "      <td>4309.37</td>\n",
       "      <td>4324.35</td>\n",
       "      <td>7.229691</td>\n",
       "      <td>1502953199999</td>\n",
       "      <td>31282.312670</td>\n",
       "      <td>36</td>\n",
       "      <td>4.802861</td>\n",
       "      <td>20795.317224</td>\n",
       "      <td>0</td>\n",
       "    </tr>\n",
       "    <tr>\n",
       "      <th>3</th>\n",
       "      <td>1502953200000</td>\n",
       "      <td>4316.62</td>\n",
       "      <td>4349.99</td>\n",
       "      <td>4287.41</td>\n",
       "      <td>4349.99</td>\n",
       "      <td>4.443249</td>\n",
       "      <td>1502956799999</td>\n",
       "      <td>19241.058300</td>\n",
       "      <td>25</td>\n",
       "      <td>2.602292</td>\n",
       "      <td>11291.347015</td>\n",
       "      <td>0</td>\n",
       "    </tr>\n",
       "    <tr>\n",
       "      <th>4</th>\n",
       "      <td>1502956800000</td>\n",
       "      <td>4333.32</td>\n",
       "      <td>4377.85</td>\n",
       "      <td>4333.32</td>\n",
       "      <td>4360.69</td>\n",
       "      <td>0.972807</td>\n",
       "      <td>1502960399999</td>\n",
       "      <td>4239.503586</td>\n",
       "      <td>28</td>\n",
       "      <td>0.814655</td>\n",
       "      <td>3552.746817</td>\n",
       "      <td>0</td>\n",
       "    </tr>\n",
       "  </tbody>\n",
       "</table>\n",
       "</div>"
      ],
      "text/plain": [
       "       Open Time     Open     High      Low    Close     Volume  \\\n",
       "0  1502942400000  4261.48  4313.62  4261.32  4308.83  47.181009   \n",
       "1  1502946000000  4308.83  4328.69  4291.37  4315.32  23.234916   \n",
       "2  1502949600000  4330.29  4345.45  4309.37  4324.35   7.229691   \n",
       "3  1502953200000  4316.62  4349.99  4287.41  4349.99   4.443249   \n",
       "4  1502956800000  4333.32  4377.85  4333.32  4360.69   0.972807   \n",
       "\n",
       "      Close Time            QAV  NAT      TBBAV          TBQAV  Ignore  \n",
       "0  1502945999999  202366.138393  171  35.160503  150952.477943       0  \n",
       "1  1502949599999  100304.823567  102  21.448071   92608.279728       0  \n",
       "2  1502953199999   31282.312670   36   4.802861   20795.317224       0  \n",
       "3  1502956799999   19241.058300   25   2.602292   11291.347015       0  \n",
       "4  1502960399999    4239.503586   28   0.814655    3552.746817       0  "
      ]
     },
     "execution_count": 6,
     "metadata": {},
     "output_type": "execute_result"
    }
   ],
   "source": [
    "# read Bitcoin histroical data as dataframe with column names\n",
    "headers = [\"Open Time\", \"Open\", \"High\", \"Low\", \"Close\", \"Volume\", \"Close Time\", \"QAV\", \"NAT\", \"TBBAV\", \"TBQAV\", \"Ignore\"]\n",
    "data = pd.read_csv(\"BTCUSDT.csv\", names=headers)\n",
    "data.head()"
   ]
  },
  {
   "cell_type": "code",
   "execution_count": 7,
   "metadata": {},
   "outputs": [
    {
     "data": {
      "text/html": [
       "<div>\n",
       "<style scoped>\n",
       "    .dataframe tbody tr th:only-of-type {\n",
       "        vertical-align: middle;\n",
       "    }\n",
       "\n",
       "    .dataframe tbody tr th {\n",
       "        vertical-align: top;\n",
       "    }\n",
       "\n",
       "    .dataframe thead th {\n",
       "        text-align: right;\n",
       "    }\n",
       "</style>\n",
       "<table border=\"1\" class=\"dataframe\">\n",
       "  <thead>\n",
       "    <tr style=\"text-align: right;\">\n",
       "      <th></th>\n",
       "      <th>Open Time</th>\n",
       "      <th>Open</th>\n",
       "      <th>High</th>\n",
       "      <th>Low</th>\n",
       "      <th>Close</th>\n",
       "      <th>Volume</th>\n",
       "      <th>Close Time</th>\n",
       "      <th>QAV</th>\n",
       "      <th>NAT</th>\n",
       "      <th>TBBAV</th>\n",
       "      <th>TBQAV</th>\n",
       "      <th>Ignore</th>\n",
       "    </tr>\n",
       "  </thead>\n",
       "  <tbody>\n",
       "    <tr>\n",
       "      <th>0</th>\n",
       "      <td>2017-08-16 23:00:00</td>\n",
       "      <td>4261.48</td>\n",
       "      <td>4313.62</td>\n",
       "      <td>4261.32</td>\n",
       "      <td>4308.83</td>\n",
       "      <td>47.181009</td>\n",
       "      <td>2017-08-16 23:59:59.999</td>\n",
       "      <td>2.023661e+05</td>\n",
       "      <td>171</td>\n",
       "      <td>35.160503</td>\n",
       "      <td>1.509525e+05</td>\n",
       "      <td>0</td>\n",
       "    </tr>\n",
       "    <tr>\n",
       "      <th>1</th>\n",
       "      <td>2017-08-17 00:00:00</td>\n",
       "      <td>4308.83</td>\n",
       "      <td>4328.69</td>\n",
       "      <td>4291.37</td>\n",
       "      <td>4315.32</td>\n",
       "      <td>23.234916</td>\n",
       "      <td>2017-08-17 00:59:59.999</td>\n",
       "      <td>1.003048e+05</td>\n",
       "      <td>102</td>\n",
       "      <td>21.448071</td>\n",
       "      <td>9.260828e+04</td>\n",
       "      <td>0</td>\n",
       "    </tr>\n",
       "    <tr>\n",
       "      <th>2</th>\n",
       "      <td>2017-08-17 01:00:00</td>\n",
       "      <td>4330.29</td>\n",
       "      <td>4345.45</td>\n",
       "      <td>4309.37</td>\n",
       "      <td>4324.35</td>\n",
       "      <td>7.229691</td>\n",
       "      <td>2017-08-17 01:59:59.999</td>\n",
       "      <td>3.128231e+04</td>\n",
       "      <td>36</td>\n",
       "      <td>4.802861</td>\n",
       "      <td>2.079532e+04</td>\n",
       "      <td>0</td>\n",
       "    </tr>\n",
       "    <tr>\n",
       "      <th>3</th>\n",
       "      <td>2017-08-17 02:00:00</td>\n",
       "      <td>4316.62</td>\n",
       "      <td>4349.99</td>\n",
       "      <td>4287.41</td>\n",
       "      <td>4349.99</td>\n",
       "      <td>4.443249</td>\n",
       "      <td>2017-08-17 02:59:59.999</td>\n",
       "      <td>1.924106e+04</td>\n",
       "      <td>25</td>\n",
       "      <td>2.602292</td>\n",
       "      <td>1.129135e+04</td>\n",
       "      <td>0</td>\n",
       "    </tr>\n",
       "    <tr>\n",
       "      <th>4</th>\n",
       "      <td>2017-08-17 03:00:00</td>\n",
       "      <td>4333.32</td>\n",
       "      <td>4377.85</td>\n",
       "      <td>4333.32</td>\n",
       "      <td>4360.69</td>\n",
       "      <td>0.972807</td>\n",
       "      <td>2017-08-17 03:59:59.999</td>\n",
       "      <td>4.239504e+03</td>\n",
       "      <td>28</td>\n",
       "      <td>0.814655</td>\n",
       "      <td>3.552747e+03</td>\n",
       "      <td>0</td>\n",
       "    </tr>\n",
       "    <tr>\n",
       "      <th>...</th>\n",
       "      <td>...</td>\n",
       "      <td>...</td>\n",
       "      <td>...</td>\n",
       "      <td>...</td>\n",
       "      <td>...</td>\n",
       "      <td>...</td>\n",
       "      <td>...</td>\n",
       "      <td>...</td>\n",
       "      <td>...</td>\n",
       "      <td>...</td>\n",
       "      <td>...</td>\n",
       "      <td>...</td>\n",
       "    </tr>\n",
       "    <tr>\n",
       "      <th>65240</th>\n",
       "      <td>2025-01-30 15:00:00</td>\n",
       "      <td>105711.28</td>\n",
       "      <td>105821.62</td>\n",
       "      <td>104815.82</td>\n",
       "      <td>104907.15</td>\n",
       "      <td>1118.427530</td>\n",
       "      <td>2025-01-30 15:59:59.999</td>\n",
       "      <td>1.178239e+08</td>\n",
       "      <td>267107</td>\n",
       "      <td>592.746900</td>\n",
       "      <td>6.244692e+07</td>\n",
       "      <td>0</td>\n",
       "    </tr>\n",
       "    <tr>\n",
       "      <th>65241</th>\n",
       "      <td>2025-01-30 16:00:00</td>\n",
       "      <td>104907.10</td>\n",
       "      <td>105217.17</td>\n",
       "      <td>104805.15</td>\n",
       "      <td>105048.89</td>\n",
       "      <td>488.853350</td>\n",
       "      <td>2025-01-30 16:59:59.999</td>\n",
       "      <td>5.134625e+07</td>\n",
       "      <td>134442</td>\n",
       "      <td>258.134440</td>\n",
       "      <td>2.711341e+07</td>\n",
       "      <td>0</td>\n",
       "    </tr>\n",
       "    <tr>\n",
       "      <th>65242</th>\n",
       "      <td>2025-01-30 17:00:00</td>\n",
       "      <td>105048.89</td>\n",
       "      <td>105351.29</td>\n",
       "      <td>104962.11</td>\n",
       "      <td>105094.56</td>\n",
       "      <td>279.525670</td>\n",
       "      <td>2025-01-30 17:59:59.999</td>\n",
       "      <td>2.938796e+07</td>\n",
       "      <td>62704</td>\n",
       "      <td>163.034310</td>\n",
       "      <td>1.714230e+07</td>\n",
       "      <td>0</td>\n",
       "    </tr>\n",
       "    <tr>\n",
       "      <th>65243</th>\n",
       "      <td>2025-01-30 18:00:00</td>\n",
       "      <td>105094.57</td>\n",
       "      <td>105254.00</td>\n",
       "      <td>104693.82</td>\n",
       "      <td>104722.94</td>\n",
       "      <td>395.499620</td>\n",
       "      <td>2025-01-30 18:59:59.999</td>\n",
       "      <td>4.152436e+07</td>\n",
       "      <td>75973</td>\n",
       "      <td>157.022000</td>\n",
       "      <td>1.649169e+07</td>\n",
       "      <td>0</td>\n",
       "    </tr>\n",
       "    <tr>\n",
       "      <th>65244</th>\n",
       "      <td>2025-01-30 19:00:00</td>\n",
       "      <td>104722.94</td>\n",
       "      <td>105029.72</td>\n",
       "      <td>104400.00</td>\n",
       "      <td>104898.49</td>\n",
       "      <td>652.019060</td>\n",
       "      <td>2025-01-30 19:59:59.999</td>\n",
       "      <td>6.826410e+07</td>\n",
       "      <td>139663</td>\n",
       "      <td>317.895950</td>\n",
       "      <td>3.328313e+07</td>\n",
       "      <td>0</td>\n",
       "    </tr>\n",
       "  </tbody>\n",
       "</table>\n",
       "<p>65245 rows × 12 columns</p>\n",
       "</div>"
      ],
      "text/plain": [
       "                Open Time       Open       High        Low      Close  \\\n",
       "0     2017-08-16 23:00:00    4261.48    4313.62    4261.32    4308.83   \n",
       "1     2017-08-17 00:00:00    4308.83    4328.69    4291.37    4315.32   \n",
       "2     2017-08-17 01:00:00    4330.29    4345.45    4309.37    4324.35   \n",
       "3     2017-08-17 02:00:00    4316.62    4349.99    4287.41    4349.99   \n",
       "4     2017-08-17 03:00:00    4333.32    4377.85    4333.32    4360.69   \n",
       "...                   ...        ...        ...        ...        ...   \n",
       "65240 2025-01-30 15:00:00  105711.28  105821.62  104815.82  104907.15   \n",
       "65241 2025-01-30 16:00:00  104907.10  105217.17  104805.15  105048.89   \n",
       "65242 2025-01-30 17:00:00  105048.89  105351.29  104962.11  105094.56   \n",
       "65243 2025-01-30 18:00:00  105094.57  105254.00  104693.82  104722.94   \n",
       "65244 2025-01-30 19:00:00  104722.94  105029.72  104400.00  104898.49   \n",
       "\n",
       "            Volume              Close Time           QAV     NAT       TBBAV  \\\n",
       "0        47.181009 2017-08-16 23:59:59.999  2.023661e+05     171   35.160503   \n",
       "1        23.234916 2017-08-17 00:59:59.999  1.003048e+05     102   21.448071   \n",
       "2         7.229691 2017-08-17 01:59:59.999  3.128231e+04      36    4.802861   \n",
       "3         4.443249 2017-08-17 02:59:59.999  1.924106e+04      25    2.602292   \n",
       "4         0.972807 2017-08-17 03:59:59.999  4.239504e+03      28    0.814655   \n",
       "...            ...                     ...           ...     ...         ...   \n",
       "65240  1118.427530 2025-01-30 15:59:59.999  1.178239e+08  267107  592.746900   \n",
       "65241   488.853350 2025-01-30 16:59:59.999  5.134625e+07  134442  258.134440   \n",
       "65242   279.525670 2025-01-30 17:59:59.999  2.938796e+07   62704  163.034310   \n",
       "65243   395.499620 2025-01-30 18:59:59.999  4.152436e+07   75973  157.022000   \n",
       "65244   652.019060 2025-01-30 19:59:59.999  6.826410e+07  139663  317.895950   \n",
       "\n",
       "              TBQAV  Ignore  \n",
       "0      1.509525e+05       0  \n",
       "1      9.260828e+04       0  \n",
       "2      2.079532e+04       0  \n",
       "3      1.129135e+04       0  \n",
       "4      3.552747e+03       0  \n",
       "...             ...     ...  \n",
       "65240  6.244692e+07       0  \n",
       "65241  2.711341e+07       0  \n",
       "65242  1.714230e+07       0  \n",
       "65243  1.649169e+07       0  \n",
       "65244  3.328313e+07       0  \n",
       "\n",
       "[65245 rows x 12 columns]"
      ]
     },
     "execution_count": 7,
     "metadata": {},
     "output_type": "execute_result"
    }
   ],
   "source": [
    "# Turn \"Open Time\" and \"Close Time\" columns to Date\n",
    "open_date = []\n",
    "for i in data[\"Open Time\"]:\n",
    "    open_date.append(calculate_time(i))\n",
    "data[\"Open Time\"] = open_date\n",
    "\n",
    "close_date = []\n",
    "for i in data[\"Close Time\"]:\n",
    "    close_date.append(calculate_time(i))\n",
    "data[\"Close Time\"] = close_date\n",
    "data"
   ]
  },
  {
   "cell_type": "markdown",
   "metadata": {},
   "source": [
    "## Create Train and Test Data"
   ]
  },
  {
   "cell_type": "code",
   "execution_count": 9,
   "metadata": {},
   "outputs": [
    {
     "data": {
      "text/plain": [
       "52196"
      ]
     },
     "execution_count": 9,
     "metadata": {},
     "output_type": "execute_result"
    }
   ],
   "source": [
    "# Create new data with only the \"Close\" column\n",
    "close = data.filter([\"Close\"])\n",
    "# Convert the dataframe to a np array\n",
    "close_array = close.values\n",
    "# See the train data len\n",
    "train_close_len = math.ceil(len(close_array) * 0.8)\n",
    "train_close_len"
   ]
  },
  {
   "cell_type": "code",
   "execution_count": 10,
   "id": "dc9c05fc",
   "metadata": {},
   "outputs": [
    {
     "name": "stdout",
     "output_type": "stream",
     "text": [
      "           Close\n",
      "0        4308.83\n",
      "1        4315.32\n",
      "2        4324.35\n",
      "3        4349.99\n",
      "4        4360.69\n",
      "...          ...\n",
      "65240  104907.15\n",
      "65241  105048.89\n",
      "65242  105094.56\n",
      "65243  104722.94\n",
      "65244  104898.49\n",
      "\n",
      "[65245 rows x 1 columns]\n"
     ]
    }
   ],
   "source": [
    "print(close)"
   ]
  },
  {
   "cell_type": "code",
   "execution_count": 11,
   "metadata": {},
   "outputs": [
    {
     "data": {
      "text/plain": [
       "array([[0.01318612],\n",
       "       [0.01324769],\n",
       "       [0.01333336],\n",
       "       ...,\n",
       "       [0.9693983 ],\n",
       "       [0.96587253],\n",
       "       [0.96753807]])"
      ]
     },
     "execution_count": 11,
     "metadata": {},
     "output_type": "execute_result"
    }
   ],
   "source": [
    "# Normalize the data\n",
    "scaler = MinMaxScaler()\n",
    "scaled_data = scaler.fit_transform(close_array)\n",
    "scaled_data"
   ]
  },
  {
   "cell_type": "code",
   "execution_count": 19,
   "metadata": {},
   "outputs": [],
   "source": [
    "# Create the training dataset\n",
    "train_data = scaled_data[0 : train_close_len, :]\n",
    "# Create X_train and y_train\n",
    "X_train = []\n",
    "y_train = []\n",
    "for i in range(24*7, train_close_len):\n",
    "    X_train.append(scaled_data[i - 24*7 : i, 0])\n",
    "    y_train.append(scaled_data[i : i+24*7, 0])"
   ]
  },
  {
   "cell_type": "code",
   "execution_count": 20,
   "metadata": {},
   "outputs": [],
   "source": [
    "#  make X_train and y_train np array\n",
    "X_train, y_train = np.array(X_train), np.array(y_train)"
   ]
  },
  {
   "cell_type": "code",
   "execution_count": null,
   "id": "8807678a",
   "metadata": {},
   "outputs": [],
   "source": [
    "print(X_train)"
   ]
  },
  {
   "cell_type": "code",
   "execution_count": 21,
   "metadata": {},
   "outputs": [
    {
     "name": "stdout",
     "output_type": "stream",
     "text": [
      "(52028, 168, 1)\n",
      "(52028, 168, 1)\n"
     ]
    }
   ],
   "source": [
    "# reshape the data\n",
    "X_train = np.reshape(X_train, (X_train.shape[0], X_train.shape[1], 1))\n",
    "print(X_train.shape)\n",
    "y_train = np.reshape(y_train, (y_train.shape[0], y_train.shape[1], 1))\n",
    "print(y_train.shape)"
   ]
  },
  {
   "cell_type": "code",
   "execution_count": null,
   "metadata": {},
   "outputs": [],
   "source": [
    "# create the testing dataset\n",
    "test_data = scaled_data[train_close_len - 24*7 : , :]\n",
    "# create X_test and y_test\n",
    "X_test = []\n",
    "y_test = []\n",
    "for i in range(24*7, len(test_data)):\n",
    "    X_test.append(test_data[i - 24*7 : i, 0])\n",
    "    y_test.append(test_data[i, 0])"
   ]
  },
  {
   "cell_type": "code",
   "execution_count": null,
   "metadata": {},
   "outputs": [],
   "source": [
    "# convert the test data to a np array and reshape the test data\n",
    "#  make X_train and y_train np array\n",
    "X_test, y_test = np.array(X_test), np.array(y_test)\n",
    "X_test = np.reshape(X_test, (X_test.shape[0], X_test.shape[1], 1))\n",
    "y_test = np.reshape(y_test, (y_test.shape[0], y_test.shape[1], 1))"
   ]
  },
  {
   "cell_type": "markdown",
   "metadata": {},
   "source": [
    "## Adaptation of Optimized LSTM Model to Predict One Week"
   ]
  },
  {
   "cell_type": "code",
   "execution_count": 22,
   "metadata": {},
   "outputs": [
    {
     "data": {
      "text/html": [
       "<pre style=\"white-space:pre;overflow-x:auto;line-height:normal;font-family:Menlo,'DejaVu Sans Mono',consolas,'Courier New',monospace\"><span style=\"font-weight: bold\">Model: \"sequential\"</span>\n",
       "</pre>\n"
      ],
      "text/plain": [
       "\u001b[1mModel: \"sequential\"\u001b[0m\n"
      ]
     },
     "metadata": {},
     "output_type": "display_data"
    },
    {
     "data": {
      "text/html": [
       "<pre style=\"white-space:pre;overflow-x:auto;line-height:normal;font-family:Menlo,'DejaVu Sans Mono',consolas,'Courier New',monospace\">┏━━━━━━━━━━━━━━━━━━━━━━━━━━━━━━━━━┳━━━━━━━━━━━━━━━━━━━━━━━━┳━━━━━━━━━━━━━━━┓\n",
       "┃<span style=\"font-weight: bold\"> Layer (type)                    </span>┃<span style=\"font-weight: bold\"> Output Shape           </span>┃<span style=\"font-weight: bold\">       Param # </span>┃\n",
       "┡━━━━━━━━━━━━━━━━━━━━━━━━━━━━━━━━━╇━━━━━━━━━━━━━━━━━━━━━━━━╇━━━━━━━━━━━━━━━┩\n",
       "│ lstm (<span style=\"color: #0087ff; text-decoration-color: #0087ff\">LSTM</span>)                     │ (<span style=\"color: #00d7ff; text-decoration-color: #00d7ff\">None</span>, <span style=\"color: #00af00; text-decoration-color: #00af00\">168</span>, <span style=\"color: #00af00; text-decoration-color: #00af00\">50</span>)        │        <span style=\"color: #00af00; text-decoration-color: #00af00\">10,400</span> │\n",
       "├─────────────────────────────────┼────────────────────────┼───────────────┤\n",
       "│ lstm_1 (<span style=\"color: #0087ff; text-decoration-color: #0087ff\">LSTM</span>)                   │ (<span style=\"color: #00d7ff; text-decoration-color: #00d7ff\">None</span>, <span style=\"color: #00af00; text-decoration-color: #00af00\">168</span>, <span style=\"color: #00af00; text-decoration-color: #00af00\">100</span>)       │        <span style=\"color: #00af00; text-decoration-color: #00af00\">60,400</span> │\n",
       "├─────────────────────────────────┼────────────────────────┼───────────────┤\n",
       "│ dense (<span style=\"color: #0087ff; text-decoration-color: #0087ff\">Dense</span>)                   │ (<span style=\"color: #00d7ff; text-decoration-color: #00d7ff\">None</span>, <span style=\"color: #00af00; text-decoration-color: #00af00\">168</span>, <span style=\"color: #00af00; text-decoration-color: #00af00\">50</span>)        │         <span style=\"color: #00af00; text-decoration-color: #00af00\">5,050</span> │\n",
       "├─────────────────────────────────┼────────────────────────┼───────────────┤\n",
       "│ dense_1 (<span style=\"color: #0087ff; text-decoration-color: #0087ff\">Dense</span>)                 │ (<span style=\"color: #00d7ff; text-decoration-color: #00d7ff\">None</span>, <span style=\"color: #00af00; text-decoration-color: #00af00\">168</span>, <span style=\"color: #00af00; text-decoration-color: #00af00\">1</span>)         │            <span style=\"color: #00af00; text-decoration-color: #00af00\">51</span> │\n",
       "└─────────────────────────────────┴────────────────────────┴───────────────┘\n",
       "</pre>\n"
      ],
      "text/plain": [
       "┏━━━━━━━━━━━━━━━━━━━━━━━━━━━━━━━━━┳━━━━━━━━━━━━━━━━━━━━━━━━┳━━━━━━━━━━━━━━━┓\n",
       "┃\u001b[1m \u001b[0m\u001b[1mLayer (type)                   \u001b[0m\u001b[1m \u001b[0m┃\u001b[1m \u001b[0m\u001b[1mOutput Shape          \u001b[0m\u001b[1m \u001b[0m┃\u001b[1m \u001b[0m\u001b[1m      Param #\u001b[0m\u001b[1m \u001b[0m┃\n",
       "┡━━━━━━━━━━━━━━━━━━━━━━━━━━━━━━━━━╇━━━━━━━━━━━━━━━━━━━━━━━━╇━━━━━━━━━━━━━━━┩\n",
       "│ lstm (\u001b[38;5;33mLSTM\u001b[0m)                     │ (\u001b[38;5;45mNone\u001b[0m, \u001b[38;5;34m168\u001b[0m, \u001b[38;5;34m50\u001b[0m)        │        \u001b[38;5;34m10,400\u001b[0m │\n",
       "├─────────────────────────────────┼────────────────────────┼───────────────┤\n",
       "│ lstm_1 (\u001b[38;5;33mLSTM\u001b[0m)                   │ (\u001b[38;5;45mNone\u001b[0m, \u001b[38;5;34m168\u001b[0m, \u001b[38;5;34m100\u001b[0m)       │        \u001b[38;5;34m60,400\u001b[0m │\n",
       "├─────────────────────────────────┼────────────────────────┼───────────────┤\n",
       "│ dense (\u001b[38;5;33mDense\u001b[0m)                   │ (\u001b[38;5;45mNone\u001b[0m, \u001b[38;5;34m168\u001b[0m, \u001b[38;5;34m50\u001b[0m)        │         \u001b[38;5;34m5,050\u001b[0m │\n",
       "├─────────────────────────────────┼────────────────────────┼───────────────┤\n",
       "│ dense_1 (\u001b[38;5;33mDense\u001b[0m)                 │ (\u001b[38;5;45mNone\u001b[0m, \u001b[38;5;34m168\u001b[0m, \u001b[38;5;34m1\u001b[0m)         │            \u001b[38;5;34m51\u001b[0m │\n",
       "└─────────────────────────────────┴────────────────────────┴───────────────┘\n"
      ]
     },
     "metadata": {},
     "output_type": "display_data"
    },
    {
     "data": {
      "text/html": [
       "<pre style=\"white-space:pre;overflow-x:auto;line-height:normal;font-family:Menlo,'DejaVu Sans Mono',consolas,'Courier New',monospace\"><span style=\"font-weight: bold\"> Total params: </span><span style=\"color: #00af00; text-decoration-color: #00af00\">75,901</span> (296.49 KB)\n",
       "</pre>\n"
      ],
      "text/plain": [
       "\u001b[1m Total params: \u001b[0m\u001b[38;5;34m75,901\u001b[0m (296.49 KB)\n"
      ]
     },
     "metadata": {},
     "output_type": "display_data"
    },
    {
     "data": {
      "text/html": [
       "<pre style=\"white-space:pre;overflow-x:auto;line-height:normal;font-family:Menlo,'DejaVu Sans Mono',consolas,'Courier New',monospace\"><span style=\"font-weight: bold\"> Trainable params: </span><span style=\"color: #00af00; text-decoration-color: #00af00\">75,901</span> (296.49 KB)\n",
       "</pre>\n"
      ],
      "text/plain": [
       "\u001b[1m Trainable params: \u001b[0m\u001b[38;5;34m75,901\u001b[0m (296.49 KB)\n"
      ]
     },
     "metadata": {},
     "output_type": "display_data"
    },
    {
     "data": {
      "text/html": [
       "<pre style=\"white-space:pre;overflow-x:auto;line-height:normal;font-family:Menlo,'DejaVu Sans Mono',consolas,'Courier New',monospace\"><span style=\"font-weight: bold\"> Non-trainable params: </span><span style=\"color: #00af00; text-decoration-color: #00af00\">0</span> (0.00 B)\n",
       "</pre>\n"
      ],
      "text/plain": [
       "\u001b[1m Non-trainable params: \u001b[0m\u001b[38;5;34m0\u001b[0m (0.00 B)\n"
      ]
     },
     "metadata": {},
     "output_type": "display_data"
    }
   ],
   "source": [
    "# Construye el modelo LSTM optimizado\n",
    "model = Sequential()\n",
    "\n",
    "# Primera capa LSTM con 50 neuronas, manteniendo la salida de secuencia activa\n",
    "model.add(LSTM(50, return_sequences=True, input_shape=(X_train.shape[1], 1)))\n",
    "\n",
    "# Segunda capa LSTM con 100 neuronas, sin devolver secuencias\n",
    "model.add(LSTM(100, return_sequences=True))\n",
    "\n",
    "# Capa densa intermedia con 50 neuronas\n",
    "model.add(Dense(50))\n",
    "\n",
    "# Capa densa final que genera la predicción\n",
    "model.add(Dense(1))\n",
    "\n",
    "# Muestra la estructura del modelo\n",
    "model.summary()"
   ]
  },
  {
   "cell_type": "code",
   "execution_count": 23,
   "metadata": {},
   "outputs": [],
   "source": [
    "# compile the model\n",
    "model.compile(optimizer=\"Adam\", loss=\"mean_squared_error\", metrics=['mae'])"
   ]
  },
  {
   "cell_type": "code",
   "execution_count": 24,
   "metadata": {},
   "outputs": [
    {
     "name": "stdout",
     "output_type": "stream",
     "text": [
      "Epoch 1/3\n",
      "\u001b[1m5203/5203\u001b[0m \u001b[32m━━━━━━━━━━━━━━━━━━━━\u001b[0m\u001b[37m\u001b[0m \u001b[1m159s\u001b[0m 30ms/step - loss: 0.0011 - mae: 0.0198\n",
      "Epoch 2/3\n",
      "\u001b[1m5203/5203\u001b[0m \u001b[32m━━━━━━━━━━━━━━━━━━━━\u001b[0m\u001b[37m\u001b[0m \u001b[1m157s\u001b[0m 30ms/step - loss: 6.4689e-04 - mae: 0.0164\n",
      "Epoch 3/3\n",
      "\u001b[1m5203/5203\u001b[0m \u001b[32m━━━━━━━━━━━━━━━━━━━━\u001b[0m\u001b[37m\u001b[0m \u001b[1m158s\u001b[0m 30ms/step - loss: 6.1406e-04 - mae: 0.0158\n"
     ]
    },
    {
     "data": {
      "text/plain": [
       "<keras.src.callbacks.history.History at 0x198ad6296c0>"
      ]
     },
     "execution_count": 24,
     "metadata": {},
     "output_type": "execute_result"
    }
   ],
   "source": [
    "# train the optimized model\n",
    "model.fit(X_train, y_train, \n",
    "          batch_size=10, \n",
    "          epochs=3, \n",
    "          verbose=1)"
   ]
  },
  {
   "cell_type": "code",
   "execution_count": 27,
   "id": "ee5916af",
   "metadata": {},
   "outputs": [
    {
     "data": {
      "text/plain": [
       "(168, 1)"
      ]
     },
     "execution_count": 27,
     "metadata": {},
     "output_type": "execute_result"
    }
   ],
   "source": [
    "X_train[-1].shape"
   ]
  },
  {
   "cell_type": "code",
   "execution_count": 29,
   "metadata": {},
   "outputs": [
    {
     "name": "stdout",
     "output_type": "stream",
     "text": [
      "\u001b[1m6/6\u001b[0m \u001b[32m━━━━━━━━━━━━━━━━━━━━\u001b[0m\u001b[37m\u001b[0m \u001b[1m0s\u001b[0m 4ms/step \n"
     ]
    }
   ],
   "source": [
    "# Predict with optimized LSTM model\n",
    "o_predictions = model.predict(X_train[-1])\n",
    "#o_predictions = scaler.inverse_transform(o_predictions)"
   ]
  },
  {
   "cell_type": "code",
   "execution_count": 32,
   "id": "0db71ad5",
   "metadata": {},
   "outputs": [
    {
     "name": "stdout",
     "output_type": "stream",
     "text": [
      "Mean Squared Error: 2.0180529679028357e-05\n",
      "Root Mean Squared Error: 0.004492274443867867\n",
      "Mean Absolute Error: 0.003712689309208182\n"
     ]
    }
   ],
   "source": [
    "o_predictions = np.array(o_predictions).reshape(-1, 1)\n",
    "mse3 = np.mean(np.square(scaled_data[train_close_len:train_close_len+24*7] - o_predictions))\n",
    "rmse3 = math.sqrt(mse3)\n",
    "mae3 = np.mean(np.abs(scaled_data[train_close_len:train_close_len+24*7] - o_predictions))\n",
    "print(f\"Mean Squared Error: {mse3}\")\n",
    "print(f\"Root Mean Squared Error: {rmse3}\")\n",
    "print(f\"Mean Absolute Error: {mae3}\")"
   ]
  },
  {
   "cell_type": "code",
   "execution_count": 38,
   "id": "d4223bd7",
   "metadata": {},
   "outputs": [
    {
     "data": {
      "image/png": "[encoded data removed]",
      "text/plain": [
       "<Figure size 1600x800 with 1 Axes>"
      ]
     },
     "metadata": {},
     "output_type": "display_data"
    }
   ],
   "source": [
    "plt.figure(figsize=(16, 8))\n",
    "plt.plot(scaled_data[train_close_len:train_close_len+24*7], label=\"Real Close Price\")\n",
    "plt.plot(o_predictions, label=\"Predicted Close Price\")\n",
    "plt.title(\"LSTM Bitcoin Close Price Prediction\")\n",
    "plt.legend()\n",
    "plt.show()"
   ]
  }
 ],
 "metadata": {
  "kernelspec": {
   "display_name": "Python 3",
   "language": "python",
   "name": "python3"
  },
  "language_info": {
   "codemirror_mode": {
    "name": "ipython",
    "version": 3
   },
   "file_extension": ".py",
   "mimetype": "text/x-python",
   "name": "python",
   "nbconvert_exporter": "python",
   "pygments_lexer": "ipython3",
   "version": "3.10.0"
  }
 },
 "nbformat": 4,
 "nbformat_minor": 5
}
